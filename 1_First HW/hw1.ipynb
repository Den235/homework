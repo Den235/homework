{
 "cells": [
  {
   "cell_type": "code",
   "execution_count": 4,
   "metadata": {},
   "outputs": [
    {
     "name": "stdout",
     "output_type": "stream",
     "text": [
      "Фраза 2 длиннее фразы 1\n"
     ]
    }
   ],
   "source": [
    "phrase_1 = '640Кб должно хватить для любых задач. Билл Гейтс (по легенде)'\n",
    "phrase_2 = 'Насколько проще было бы писать программы, если бы не заказчики'\n",
    "if phrase_1 > phrase_2:\n",
    "    print('Фраза 1 длиннее фразы 2')\n",
    "elif phrase_1 < phrase_2:\n",
    "    print('Фраза 2 длиннее фразы 1')\n",
    "else:\n",
    "    print('Фразы равной длины')"
   ]
  },
  {
   "cell_type": "code",
   "execution_count": null,
   "metadata": {},
   "outputs": [],
   "source": [
    "year = 2400\n",
    "if(year % 4 != 0):\n",
    "    print('Обычный год')\n",
    "elif (year % 100 != 0):\n",
    "    print('Год високосный')\n",
    "elif (year % 400 == 0):\n",
    "    print('Год високосный')\n",
    "else: \n",
    "    print('Обычный год')\n"
   ]
  },
  {
   "cell_type": "code",
   "execution_count": null,
   "metadata": {},
   "outputs": [],
   "source": [
    "day = int(input(\"Введите день: \"))\n",
    "month = input (\"Введите месяц: \")\n",
    "if(month == \"Март\"):\n",
    "    if(day <= 20):\n",
    "          print(\"Ваш знак зодиака: Рыбы\")\n",
    "    else:\n",
    "          print(\"Ваш знак зодиака: Овен\")\n",
    "elif (month == \"Апрель\"):\n",
    "    if(day <= 19):\n",
    "        print(\"Ваш знак зодиака: Овен\")\n",
    "    else:\n",
    "        print(\"Ваш знак зодиака: Телец\")\n",
    "elif (month == \"Май\"):\n",
    "    if(day <= 20):\n",
    "        print(\"Ваш знак зодиака: Телец\")\n",
    "    else:\n",
    "        print(\"Ваш знак зодиака: Близнецы\")\n",
    "elif (month == \"Июнь\"):\n",
    "    if(day <= 21):\n",
    "        print(\"Ваш знак зодиака: Близнецы\")\n",
    "    else:\n",
    "        print(\"Ваш знак зодиака: Рак\")\n",
    "elif (month == \"Июль\"):\n",
    "    if(day <= 22):\n",
    "        print(\"Ваш знак зодиака: Рак\")\n",
    "    else:\n",
    "        print(\"Ваш знак зодиака: Лев\")\n",
    "elif (month == \"Август\"):\n",
    "    if(day <= 22):\n",
    "        print(\"Ваш знак зодиака: Лев\")\n",
    "    else:\n",
    "        print(\"Ваш знак зодиака: Дева\")\n",
    "elif (month == \"Сентябрь\"):\n",
    "    if(day <= 22):\n",
    "        print(\"Ваш знак зодиака: Дева\")\n",
    "    else:\n",
    "        print(\"Ваш знак зодиака: Весы\")\n",
    "elif (month == \"Октябрь\"):\n",
    "    if(day <= 23):\n",
    "        print(\"Ваш знак зодиака: Весы\")\n",
    "    else:\n",
    "        print(\"Ваш знак зодиака: Скорпион\")\n",
    "elif (month == \"Ноябрь\"):\n",
    "    if(day <= 22):\n",
    "        print(\"Ваш знак зодиака: Скорпион\")\n",
    "    else:\n",
    "        print(\"Ваш знак зодиака: Стрелец\")\n",
    "elif (month == \"Декабрь\"):\n",
    "    if(day <= 21):\n",
    "        print(\"Ваш знак зодиака: Стрелец\")\n",
    "    else:\n",
    "        print(\"Ваш знак зодиака: Козерог\")\n",
    "elif (month == \"Январь\"):\n",
    "    if(day <= 20):\n",
    "        print(\"Ваш знак зодиака: Козерог\")\n",
    "    else:\n",
    "        print(\"Ваш знак зодиака: Водолей\")\n",
    "elif (month == \"Февраль\"):\n",
    "    if(day <= 18):\n",
    "        print(\"Ваш знак зодиака: Водолей\")\n",
    "    else:\n",
    "        print(\"Ваш знак зодиака: Рыбы\")\n"
   ]
  },
  {
   "cell_type": "code",
   "execution_count": 12,
   "metadata": {},
   "outputs": [
    {
     "name": "stdout",
     "output_type": "stream",
     "text": [
      "Введите ширину: 3\n",
      "Введите длины: 4\n",
      "Введите высоту: 6\n",
      "Коробка №1\n"
     ]
    }
   ],
   "source": [
    "w = int(input(\"Введите ширину: \"))\n",
    "l = int(input(\"Введите длины: \"))\n",
    "h = int(input(\"Введите высоту: \"))\n",
    "if(w < 15 and l < 15 and h < 15):\n",
    "    print(\"Коробка №1\")\n",
    "elif (15 < w < 50 or 15 < l < 50 or 15 < h < 50):\n",
    "    print(\"Коробка №2\")\n",
    "elif (l > 200):\n",
    "    print( \"Упаковка для лыж\")\n",
    "else: print(\"Стандартная коробка №3\")"
   ]
  },
  {
   "cell_type": "code",
   "execution_count": 41,
   "metadata": {},
   "outputs": [
    {
     "name": "stdout",
     "output_type": "stream",
     "text": [
      "Cчастливый билет\n"
     ]
    }
   ],
   "source": [
    "number = 123321\n",
    "a = list(str(number))\n",
    "sum_f = 0\n",
    "sum_s = 0\n",
    "\n",
    "for i in range(0, len(a) // 2):\n",
    "    sum_f += int(a[i])\n",
    "for j in range(len(a) // 2, len(a)):\n",
    "    sum_s += int(a[j])\n",
    "if(sum_f == sum_s): \n",
    "    print(\"Cчастливый билет\")\n",
    "else:\n",
    "    print(\"Несчастливый билет\")"
   ]
  },
  {
   "cell_type": "code",
   "execution_count": null,
   "metadata": {},
   "outputs": [],
   "source": []
  }
 ],
 "metadata": {
  "kernelspec": {
   "display_name": "Python 3",
   "language": "python",
   "name": "python3"
  },
  "language_info": {
   "codemirror_mode": {
    "name": "ipython",
    "version": 3
   },
   "file_extension": ".py",
   "mimetype": "text/x-python",
   "name": "python",
   "nbconvert_exporter": "python",
   "pygments_lexer": "ipython3",
   "version": "3.8.3"
  }
 },
 "nbformat": 4,
 "nbformat_minor": 4
}
