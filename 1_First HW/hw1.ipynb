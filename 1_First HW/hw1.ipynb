{
 "cells": [
  {
   "cell_type": "code",
   "execution_count": 1,
   "metadata": {},
   "outputs": [
    {
     "name": "stdout",
     "output_type": "stream",
     "text": [
      "Фраза 2 длиннее фразы 1\n"
     ]
    }
   ],
   "source": [
    "phrase_1 = '640Кб должно хватить для любых задач. Билл Гейтс (по легенде)'\n",
    "phrase_2 = 'Насколько проще было бы писать программы, если бы не заказчики'\n",
    "if len(phrase_1) > len(phrase_2):\n",
    "    print('Фраза 1 длиннее фразы 2')\n",
    "elif len(phrase_1) < len(phrase_2):\n",
    "    print('Фраза 2 длиннее фразы 1')\n",
    "else:\n",
    "    print('Фразы равной длины')"
   ]
  },
  {
   "cell_type": "code",
   "execution_count": null,
   "metadata": {},
   "outputs": [],
   "source": [
    "year = 2400\n",
    "if(year % 4 != 0):\n",
    "    print('Обычный год')\n",
    "elif (year % 100 != 0):\n",
    "    print('Год високосный')\n",
    "elif (year % 400 == 0):\n",
    "    print('Год високосный')\n",
    "else: \n",
    "    print('Обычный год')\n"
   ]
  },
  {
   "cell_type": "code",
   "execution_count": 2,
   "metadata": {},
   "outputs": [
    {
     "name": "stdout",
     "output_type": "stream",
     "text": [
      "Введите день9\n",
      "Введите месяцДекабрь\n",
      "Ваш знак зодиака:Стрелец\n"
     ]
    }
   ],
   "source": [
    "day = int(input('Введите день'))\n",
    "month =(input('Введите месяц'))\n",
    "if (day>=21 and day<=31 and month=='Март') or( month=='Апрель' and day>=1 and day<=19):\n",
    "    print(\"Ваш знак зодиака:Овен\")\n",
    "elif (day>=20 and day<=30 and month=='Апрель') or( month=='Май' and day>=1 and day<=20):\n",
    "    print(\"Ваш знак зодиака:Телец\")\n",
    "elif (day>=21 and day<=31 and month=='Май') or( month=='Июнь' and day>=1 and day<=21):\n",
    "    print(\"Ваш знак зодиака:Близнецы\")\n",
    "elif (day>=22 and day<=30 and month=='Июнь') or( month=='Июль' and day>=1 and day<=22):\n",
    "    print(\"Ваш знак зодиака:Рак\")\n",
    "elif (day>=23 and day<=31 and month=='Июль') or( month=='Август' and day>=1 and day<=22):\n",
    "    print(\"Ваш знак зодиака:Лев\")\n",
    "elif (day>=23 and day<=31 and month=='Август') or( month=='Сентябрь' and day>=1 and day<=22):\n",
    "    print(\"Ваш знак зодиака:Дева\")\n",
    "elif (day>=23 and day<=30 and month=='Сентябрь') or( month=='Октябрь' and day>=1 and day<=23):\n",
    "    print(\"Ваш знак зодиака:Весы\")\n",
    "elif (day>=24 and day<=31 and month=='Октябрь') or( month=='Ноябрь' and day>=1 and day<=22):\n",
    "    print(\"Ваш знак зодиака:Скорпион\")\n",
    "elif (day>=23 and day<=30 and month=='Ноябрь') or( month=='Декабрь' and day>=1 and day<=21):\n",
    "    print(\"Ваш знак зодиака:Стрелец\")\n",
    "elif (day>=22 and day<=31 and month=='Декабрь') or( month=='Январь' and day>=1 and day<=20):\n",
    "    print(\"Ваш знак зодиака:Козерог\")\n",
    "elif (day>=21 and day<=31 and month=='Январь') or( month=='Февраль' and day>=1 and day<=18):\n",
    "    print(\"Ваш знак зодиака:Водолей\")\n",
    "elif (day>=19 and day<=29 and month=='Февраль') or( month=='Март' and day>=1 and day<=20):\n",
    "    print(\"Ваш знак зодиака:Рыбы\")\n",
    "else:\n",
    "    print('Знак не определен. Введите название месяца')\n"
   ]
  },
  {
   "cell_type": "code",
   "execution_count": 4,
   "metadata": {},
   "outputs": [
    {
     "name": "stdout",
     "output_type": "stream",
     "text": [
      "Введите ширину: 45\n",
      "Введите длины: 205\n",
      "Введите высоту: 45\n",
      "Упаковка для лыж\n"
     ]
    }
   ],
   "source": [
    "w = int(input(\"Введите ширину: \"))\n",
    "l = int(input(\"Введите длины: \"))\n",
    "h = int(input(\"Введите высоту: \"))\n",
    "if(w < 15 and l < 15 and h < 15):\n",
    "    print(\"Коробка №1\")\n",
    "elif (15 < w < 50 and 15 < l < 50 or 15 < h < 50 and 15 < l < 50):\n",
    "    print(\"Коробка №2\")\n",
    "elif (l > 200):\n",
    "    print( \"Упаковка для лыж\")\n",
    "else: print(\"Стандартная коробка №3\")"
   ]
  },
  {
   "cell_type": "code",
   "execution_count": 41,
   "metadata": {},
   "outputs": [
    {
     "name": "stdout",
     "output_type": "stream",
     "text": [
      "Cчастливый билет\n"
     ]
    }
   ],
   "source": [
    "number = 123321\n",
    "a = list(str(number))\n",
    "sum_f = 0\n",
    "sum_s = 0\n",
    "\n",
    "for i in range(0, len(a) // 2):\n",
    "    sum_f += int(a[i])\n",
    "for j in range(len(a) // 2, len(a)):\n",
    "    sum_s += int(a[j])\n",
    "if(sum_f == sum_s): \n",
    "    print(\"Cчастливый билет\")\n",
    "else:\n",
    "    print(\"Несчастливый билет\")"
   ]
  },
  {
   "cell_type": "code",
   "execution_count": null,
   "metadata": {},
   "outputs": [],
   "source": []
  }
 ],
 "metadata": {
  "kernelspec": {
   "display_name": "Python 3",
   "language": "python",
   "name": "python3"
  },
  "language_info": {
   "codemirror_mode": {
    "name": "ipython",
    "version": 3
   },
   "file_extension": ".py",
   "mimetype": "text/x-python",
   "name": "python",
   "nbconvert_exporter": "python",
   "pygments_lexer": "ipython3",
   "version": "3.8.3"
  }
 },
 "nbformat": 4,
 "nbformat_minor": 4
}
