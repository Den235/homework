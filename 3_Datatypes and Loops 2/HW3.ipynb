{
 "cells": [
  {
   "cell_type": "code",
   "execution_count": 19,
   "metadata": {},
   "outputs": [
    {
     "name": "stdout",
     "output_type": "stream",
     "text": [
      "{98, 35, 15, 213, 54, 119}\n"
     ]
    }
   ],
   "source": [
    "ids = {'user1': [213, 213, 213, 15, 213], \n",
    "       'user2': [54, 54, 119, 119, 119], \n",
    "       'user3': [213, 98, 98, 35]}\n",
    "el = []\n",
    "keys = list(ids.keys())\n",
    "for i in range(0,len(keys)):\n",
    "    el_lis = ids[keys[i]]\n",
    "    for j in range(0,len(el_lis)):\n",
    "        el.append(el_lis[j])\n",
    "        \n",
    "print(set(el))\n"
   ]
  },
  {
   "cell_type": "code",
   "execution_count": 16,
   "metadata": {},
   "outputs": [
    {
     "name": "stdout",
     "output_type": "stream",
     "text": [
      "Поисковых запросов, содержащих 2 слов(а): 42.86%\n",
      "Поисковых запросов, содержащих 3 слов(а): 57.14%\n"
     ]
    }
   ],
   "source": [
    "queries = [\n",
    "    'смотреть сериалы онлайн',\n",
    "    'новости спорта',\n",
    "    'афиша кино',\n",
    "    'курс доллара',\n",
    "    'сериалы этим летом',\n",
    "    'курс по питону',\n",
    "    'сериалы про спорт',\n",
    "]\n",
    "q = {}\n",
    "\n",
    "for i in queries:\n",
    "    length = len(i.split(' '))\n",
    "    if length not in q:\n",
    "        q[length] = 0 \n",
    "        q[length] += 1\n",
    "    else:\n",
    "        q[length] += 1\n",
    "\n",
    "for j in sorted(q):\n",
    "    print(\"Поисковых запросов, содержащих \" + str(j) + \" слов(а): \" + str(round(q[j]/len(queries) * 100, 2)) + \"%\")\n"
   ]
  },
  {
   "cell_type": "code",
   "execution_count": 4,
   "metadata": {},
   "outputs": [
    {
     "name": "stdout",
     "output_type": "stream",
     "text": [
      "vk                   {'revenue': 103, 'cost': 98, 'ROI': 5.1}\n",
      "facebook             {'revenue': 103, 'cost': 110, 'ROI': -6.36}\n",
      "twitter              {'revenue': 11, 'cost': 24, 'ROI': -54.17}\n",
      "yandex               {'revenue': 179, 'cost': 153, 'ROI': 16.99}\n",
      "adwords              {'revenue': 35, 'cost': 34, 'ROI': 2.94}\n"
     ]
    }
   ],
   "source": [
    "results = {\n",
    "    'vk': {'revenue': 103, 'cost': 98},\n",
    "    'facebook': {'revenue': 103, 'cost': 110},\n",
    "    'twitter': {'revenue': 11, 'cost': 24},\n",
    "    'yandex': {'revenue': 179, 'cost': 153},\n",
    "    'adwords': {'revenue': 35, 'cost': 34}\n",
    "    }\n",
    "for company, v in results.items():\n",
    "    roi = round((v['revenue'] / v['cost'] - 1) * 100, 2)\n",
    "    results[company].update({'ROI': roi})\n",
    "    print(f'{company:<20} {v}')"
   ]
  },
  {
   "cell_type": "code",
   "execution_count": 7,
   "metadata": {},
   "outputs": [
    {
     "name": "stdout",
     "output_type": "stream",
     "text": [
      "Максимальный объем продаж на рекламном канале:vk\n"
     ]
    }
   ],
   "source": [
    "stats = {'facebook': 55, 'yandex': 115, 'vk': 120, 'google': 99, 'email': 42, 'ok': 98}\n",
    "\n",
    "best = max(stats.values())\n",
    "for company, count in stats.items():\n",
    "    if count == best:\n",
    "        print(f'Максимальный объем продаж на рекламном канале:{company}')"
   ]
  }
 ],
 "metadata": {
  "kernelspec": {
   "display_name": "Python 3",
   "language": "python",
   "name": "python3"
  },
  "language_info": {
   "codemirror_mode": {
    "name": "ipython",
    "version": 3
   },
   "file_extension": ".py",
   "mimetype": "text/x-python",
   "name": "python",
   "nbconvert_exporter": "python",
   "pygments_lexer": "ipython3",
   "version": "3.8.3"
  }
 },
 "nbformat": 4,
 "nbformat_minor": 4
}
