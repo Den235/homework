{
 "cells": [
  {
   "cell_type": "code",
   "execution_count": 3,
   "metadata": {},
   "outputs": [],
   "source": [
    "import re"
   ]
  },
  {
   "cell_type": "code",
   "execution_count": 5,
   "metadata": {},
   "outputs": [
    {
     "name": "stdout",
     "output_type": "stream",
     "text": [
      "Номер не валиден\n"
     ]
    }
   ],
   "source": [
    "def a_num(num):\n",
    "    res = re.findall(r'\\w{1}\\d{3}\\w{2}\\d{2,3}', num)\n",
    "    if res[0] == num:\n",
    "        print(\"Номер \" + re.findall(r'\\w{1}\\d{3}\\w{2}', num)[0] + \" валиден. Регион: \" + re.findall(r'\\d{2,3}$', num)[0])\n",
    "    else:\n",
    "        print(\"Номер не валиден\")\n",
    "\n",
    "a_num('AN222BC96')"
   ]
  },
  {
   "cell_type": "code",
   "execution_count": 4,
   "metadata": {},
   "outputs": [
    {
     "name": "stdout",
     "output_type": "stream",
     "text": [
      "Напишите функцию, которая будет удалять все последовательные повторы слов из заданной строки при помощи регулярных выражений.\n"
     ]
    }
   ],
   "source": [
    "def delete(some_string):\n",
    "    print(re.sub(r'(\\b\\w+\\b)(\\s+\\1)+', r'\\1', some_string))\n",
    "\n",
    "some_string = 'Напишите функцию функцию, которая будет будет будет будет удалять все все все все последовательные повторы слов из из из из заданной строки строки при помощи регулярных выражений.'\n",
    "delete(some_string)\n"
   ]
  },
  {
   "cell_type": "code",
   "execution_count": 145,
   "metadata": {},
   "outputs": [
    {
     "name": "stdout",
     "output_type": "stream",
     "text": [
      "Результат: NFC\n"
     ]
    }
   ],
   "source": [
    "def acr(string):\n",
    "    \n",
    "    res =re.sub(r'(\\b\\w)(\\w+\\w\\b)', r'\\1', a)\n",
    "    print('Результат: '+ re.sub(r'\\s', '', res))\n",
    "    \n",
    "acr('Near Field Communication')\n"
   ]
  },
  {
   "cell_type": "code",
   "execution_count": 9,
   "metadata": {},
   "outputs": [
    {
     "name": "stdout",
     "output_type": "stream",
     "text": [
      "{'gmail.com': 2, 'test.in': 1, 'ya.ru': 2, 'mail.ru': 1}\n"
     ]
    }
   ],
   "source": [
    "\n",
    "email = ['test@gmail.com', 'xyz@test.in', 'test@ya.ru', 'xyz@mail.ru', 'xyz@ya.ru', 'xyz@gmail.com']\n",
    "\n",
    "def domens(emails):\n",
    "    q = {}\n",
    "    for i in emails:\n",
    "        res = re.findall(r'\\w+\\.\\w{2,3}', i)\n",
    "        if res[0] not in q:\n",
    "            q[res[0]] = 0\n",
    "            q[res[0]] += 1\n",
    "        else:\n",
    "            q[res[0]] += 1\n",
    "    print(q)\n",
    "\n",
    "domens(email)"
   ]
  },
  {
   "cell_type": "code",
   "execution_count": null,
   "metadata": {},
   "outputs": [],
   "source": []
  }
 ],
 "metadata": {
  "kernelspec": {
   "display_name": "Python 3",
   "language": "python",
   "name": "python3"
  },
  "language_info": {
   "codemirror_mode": {
    "name": "ipython",
    "version": 3
   },
   "file_extension": ".py",
   "mimetype": "text/x-python",
   "name": "python",
   "nbconvert_exporter": "python",
   "pygments_lexer": "ipython3",
   "version": "3.8.3"
  }
 },
 "nbformat": 4,
 "nbformat_minor": 4
}
