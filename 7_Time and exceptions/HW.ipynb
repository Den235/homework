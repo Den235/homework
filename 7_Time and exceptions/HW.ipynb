{
 "cells": [
  {
   "cell_type": "code",
   "execution_count": 20,
   "metadata": {},
   "outputs": [],
   "source": [
    "from datetime import datetime\n",
    "from datetime import timedelta"
   ]
  },
  {
   "cell_type": "code",
   "execution_count": 12,
   "metadata": {},
   "outputs": [],
   "source": [
    "TheMoscowTimes = 'Wednesday, October 2, 2002'\n",
    "TheGuardian = 'Friday, 11.10.13'\n",
    "DailyNews = 'Thursday, 18 August 1977'\n",
    "\n",
    "datetime_MT = datetime.strptime(TheMoscowTimes, '%A, %B %d, %Y')\n",
    "datetime_TG = datetime.strptime(TheGuardian, '%A, %d.%m.%y')\n",
    "datetime_DN = datetime.strptime(DailyNews, '%A, %d %B %Y')"
   ]
  },
  {
   "cell_type": "code",
   "execution_count": 14,
   "metadata": {},
   "outputs": [
    {
     "name": "stdout",
     "output_type": "stream",
     "text": [
      "2018-04-02 - True\n",
      "2018-02-29 - False\n",
      "2018-19-02 - False\n"
     ]
    }
   ],
   "source": [
    "stream = ['2018-04-02', '2018-02-29', '2018-19-02']\n",
    "\n",
    "def check_date(stream):\n",
    "    for i in stream:\n",
    "        try:\n",
    "            date = datetime.strptime(i, '%Y-%m-%d')\n",
    "            print(format(i) + \" - True\")\n",
    "        except:\n",
    "            print(format(i) + ' - False')\n",
    "           \n",
    "            \n",
    "check_date(stream)"
   ]
  },
  {
   "cell_type": "code",
   "execution_count": 26,
   "metadata": {},
   "outputs": [
    {
     "data": {
      "text/plain": [
       "['2018-03-01',\n",
       " '2018-03-02',\n",
       " '2018-03-03',\n",
       " '2018-03-04',\n",
       " '2018-03-05',\n",
       " '2018-03-06',\n",
       " '2018-03-07',\n",
       " '2018-03-08']"
      ]
     },
     "execution_count": 26,
     "metadata": {},
     "output_type": "execute_result"
    }
   ],
   "source": [
    "def date_range(start_date, end_date):\n",
    "    i = 0\n",
    "    day = timedelta(1)\n",
    "    date_list = []\n",
    "    date_format = '%Y-%m-%d'\n",
    "    try:\n",
    "        sd = datetime.strptime(start_date, date_format)\n",
    "        ed = datetime.strptime(end_date, date_format)\n",
    "    except:\n",
    "        return date_list\n",
    "    if(sd > ed):\n",
    "        return date_list\n",
    "\n",
    "    date_list.append(start_date)\n",
    "    while date_list[i] != end_date:\n",
    "        date_list.append((datetime.strptime(date_list[i], date_format) + day).strftime(date_format))\n",
    "        i += 1\n",
    "    return date_list\n",
    "    \n",
    "    \n",
    "    \n",
    "date_range('2018-03-01', '2018-03-08')\n",
    "    "
   ]
  }
 ],
 "metadata": {
  "kernelspec": {
   "display_name": "Python 3",
   "language": "python",
   "name": "python3"
  },
  "language_info": {
   "codemirror_mode": {
    "name": "ipython",
    "version": 3
   },
   "file_extension": ".py",
   "mimetype": "text/x-python",
   "name": "python",
   "nbconvert_exporter": "python",
   "pygments_lexer": "ipython3",
   "version": "3.8.3"
  }
 },
 "nbformat": 4,
 "nbformat_minor": 4
}
